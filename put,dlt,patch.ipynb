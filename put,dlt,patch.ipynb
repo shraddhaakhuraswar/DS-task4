{
 "cells": [
  {
   "cell_type": "code",
   "execution_count": 2,
   "metadata": {},
   "outputs": [
    {
     "name": "stdout",
     "output_type": "stream",
     "text": [
      "{'args': {}, 'data': '{\"username\": \"new_username\", \"email\": \"new_email@example.com\"}', 'files': {}, 'form': {}, 'headers': {'Accept': '*/*', 'Accept-Encoding': 'gzip, deflate', 'Content-Length': '62', 'Content-Type': 'application/json', 'Host': 'httpbin.org', 'User-Agent': 'python-requests/2.32.3', 'X-Amzn-Trace-Id': 'Root=1-66d75fa3-7a98d3757c1063c57e7bc321'}, 'json': {'email': 'new_email@example.com', 'username': 'new_username'}, 'origin': '152.58.21.133', 'url': 'https://httpbin.org/put'}\n"
     ]
    }
   ],
   "source": [
    "import requests\n",
    "\n",
    "url='https://httpbin.org/put'\n",
    "\n",
    "data={\n",
    "    'username':'new_username',\n",
    "    'email':'new_email@example.com'\n",
    "}\n",
    "\n",
    "response =requests.put(url,json=data)\n",
    "\n",
    "json_response=response.json()\n",
    "\n",
    "print(json_response)\n",
    "\n"
   ]
  },
  {
   "cell_type": "code",
   "execution_count": 3,
   "metadata": {},
   "outputs": [
    {
     "name": "stdout",
     "output_type": "stream",
     "text": [
      "{'args': {}, 'data': '{\"username\": \"old_username\"}', 'files': {}, 'form': {}, 'headers': {'Accept': '*/*', 'Accept-Encoding': 'gzip, deflate', 'Content-Length': '28', 'Content-Type': 'application/json', 'Host': 'httpbin.org', 'User-Agent': 'python-requests/2.32.3', 'X-Amzn-Trace-Id': 'Root=1-66d76037-244042cc16eac2700a4db569'}, 'json': {'username': 'old_username'}, 'origin': '152.58.21.133', 'url': 'https://httpbin.org/delete'}\n"
     ]
    }
   ],
   "source": [
    "import requests\n",
    "\n",
    "url='https://httpbin.org/delete'\n",
    "\n",
    "data={\n",
    "    'username':'old_username'\n",
    "}\n",
    "\n",
    "response=requests.delete(url,json=data)\n",
    "\n",
    "json_response=response.json()\n",
    "print(json_response)"
   ]
  },
  {
   "cell_type": "code",
   "execution_count": 4,
   "metadata": {},
   "outputs": [
    {
     "name": "stdout",
     "output_type": "stream",
     "text": [
      "{'args': {}, 'data': '{\"email\": \"update_email@eample.com\"}', 'files': {}, 'form': {}, 'headers': {'Accept': '*/*', 'Accept-Encoding': 'gzip, deflate', 'Content-Length': '36', 'Content-Type': 'application/json', 'Host': 'httpbin.org', 'User-Agent': 'python-requests/2.32.3', 'X-Amzn-Trace-Id': 'Root=1-66d760ca-6305906d0d4e3a0a7265911a'}, 'json': {'email': 'update_email@eample.com'}, 'origin': '152.58.21.133', 'url': 'https://httpbin.org/patch'}\n"
     ]
    }
   ],
   "source": [
    "import requests\n",
    "\n",
    "url='https://httpbin.org/patch'\n",
    "\n",
    "data={\n",
    "    'email':'update_email@eample.com'\n",
    "}\n",
    "\n",
    "response=requests.patch(url,json=data)\n",
    "\n",
    "json_response=response.json()\n",
    "print(json_response)"
   ]
  },
  {
   "cell_type": "code",
   "execution_count": null,
   "metadata": {},
   "outputs": [],
   "source": []
  }
 ],
 "metadata": {
  "kernelspec": {
   "display_name": "Python 3",
   "language": "python",
   "name": "python3"
  },
  "language_info": {
   "codemirror_mode": {
    "name": "ipython",
    "version": 3
   },
   "file_extension": ".py",
   "mimetype": "text/x-python",
   "name": "python",
   "nbconvert_exporter": "python",
   "pygments_lexer": "ipython3",
   "version": "3.12.5"
  }
 },
 "nbformat": 4,
 "nbformat_minor": 2
}
